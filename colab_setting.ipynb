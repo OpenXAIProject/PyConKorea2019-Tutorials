{
  "nbformat": 4,
  "nbformat_minor": 0,
  "metadata": {
    "colab": {
      "name": "SHAP-tutorial.ipynb",
      "version": "0.3.2",
      "provenance": [],
      "collapsed_sections": []
    },
    "kernelspec": {
      "name": "python3",
      "display_name": "Python 3"
    }
  },
  "cells": [
    {
      "cell_type": "markdown",
      "metadata": {
        "id": "e3zZrkoUF5N7",
        "colab_type": "text"
      },
      "source": [
        "## 실습 환경 만들기 Google Colab"
      ]
    },
    {
      "cell_type": "markdown",
      "metadata": {
        "id": "WeEWcROs5RZ-",
        "colab_type": "text"
      },
      "source": [
        "### 구글 드라이브와 Colab 연동"
      ]
    },
    {
      "cell_type": "code",
      "metadata": {
        "id": "M4npGoV_x_Ad",
        "colab_type": "code",
        "colab": {}
      },
      "source": [
        "# 구글 드라이브와 Colab 연동\n",
        "from google.colab import drive\n",
        "drive.mount('/content/drive') # 출력되는 URL에 접속하여 verification code 복사 및 붙여넣기"
      ],
      "execution_count": 0,
      "outputs": []
    },
    {
      "cell_type": "code",
      "metadata": {
        "id": "-zQfbj5px-4y",
        "colab_type": "code",
        "colab": {}
      },
      "source": [
        "# 작업할 공간 설정\n",
        "import os\n",
        "os.getcwd() # 현재 path 확인"
      ],
      "execution_count": 0,
      "outputs": []
    },
    {
      "cell_type": "code",
      "metadata": {
        "id": "4iKYOpB5x-wu",
        "colab_type": "code",
        "colab": {}
      },
      "source": [
        "os.chdir('/content/drive/My Drive/') # 작업할 path를 google drive로 이동\n",
        "os.getcwd()"
      ],
      "execution_count": 0,
      "outputs": []
    },
    {
      "cell_type": "code",
      "metadata": {
        "id": "2UE1-SfSx-k-",
        "colab_type": "code",
        "colab": {}
      },
      "source": [
        "!git clone https://github.com/OpenXAIProject/PyConKorea2019-Tutorials.git"
      ],
      "execution_count": 0,
      "outputs": []
    }
  ]
}