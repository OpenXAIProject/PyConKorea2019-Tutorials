{
  "nbformat": 4,
  "nbformat_minor": 0,
  "metadata": {
    "colab": {
      "name": "colab_setting.ipynb",
      "version": "0.3.2",
      "provenance": [],
      "collapsed_sections": []
    },
    "kernelspec": {
      "name": "python3",
      "display_name": "Python 3"
    }
  },
  "cells": [
    {
      "cell_type": "markdown",
      "metadata": {
        "id": "e3zZrkoUF5N7",
        "colab_type": "text"
      },
      "source": [
        "## Google Colab에서 실습 환경 만들기 "
      ]
    },
    {
      "cell_type": "markdown",
      "metadata": {
        "id": "iL3JBGqXfTxI",
        "colab_type": "text"
      },
      "source": [
        "본인의 구글 아이디로 로그인 "
      ]
    },
    {
      "cell_type": "markdown",
      "metadata": {
        "id": "WeEWcROs5RZ-",
        "colab_type": "text"
      },
      "source": [
        "### 구글 드라이브와 Colab 연동"
      ]
    },
    {
      "cell_type": "code",
      "metadata": {
        "id": "M4npGoV_x_Ad",
        "colab_type": "code",
        "colab": {}
      },
      "source": [
        "from google.colab import drive\n",
        "drive.mount('/content/drive') \n",
        "\n",
        "# 아래 출력되는 URL에 접속하여 이용 동의 후 생성되는 인증코드를 복사해서 붙여넣기"
      ],
      "execution_count": 0,
      "outputs": []
    },
    {
      "cell_type": "code",
      "metadata": {
        "id": "-zQfbj5px-4y",
        "colab_type": "code",
        "colab": {}
      },
      "source": [
        "# 작업할 경로 설정을 위해 현재 경로 확인\n",
        "import os\n",
        "os.getcwd() # 현재 경로는 기본 값인 '/content'"
      ],
      "execution_count": 0,
      "outputs": []
    },
    {
      "cell_type": "code",
      "metadata": {
        "id": "4iKYOpB5x-wu",
        "colab_type": "code",
        "colab": {}
      },
      "source": [
        "# 작업할 경로를 google drive가 있는 위치로 변경\n",
        "os.chdir('/content/drive/My Drive/') \n",
        "os.getcwd()"
      ],
      "execution_count": 0,
      "outputs": []
    },
    {
      "cell_type": "code",
      "metadata": {
        "id": "2UE1-SfSx-k-",
        "colab_type": "code",
        "colab": {}
      },
      "source": [
        "# 오늘 사용할 소스코드를 깃허브 저장소에서 내 구글 드라이브로 클론함\n",
        "!git clone https://github.com/OpenXAIProject/PyConKorea2019-Tutorials.git"
      ],
      "execution_count": 0,
      "outputs": []
    }
  ]
}