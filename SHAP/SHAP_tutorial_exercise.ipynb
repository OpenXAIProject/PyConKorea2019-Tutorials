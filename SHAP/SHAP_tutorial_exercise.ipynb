{
  "nbformat": 4,
  "nbformat_minor": 0,
  "metadata": {
    "colab": {
      "name": "SHAP-tutorial-exercise.ipynb",
      "version": "0.3.2",
      "provenance": [],
      "collapsed_sections": []
    },
    "kernelspec": {
      "name": "python3",
      "display_name": "Python 3"
    },
    "accelerator": "GPU"
  },
  "cells": [
    {
      "cell_type": "markdown",
      "metadata": {
        "id": "Tac3DxK_D6J8",
        "colab_type": "text"
      },
      "source": [
        "# SHAP 튜토리얼: 모델 불가지론적 방법으로 모델 해석 (Model Agnostic Explanations)\n",
        "  - SHapley Additive exPlanations, SHAP\n",
        "  - Red Wine Quality 예측 문제\n",
        "  ## Index\n",
        " \n",
        " 1) 실습 환경 만들기\n",
        " \n",
        " 2) 따라하기: SHAP 실습: DeepExplainer, KernelExplainer, TreeExplainer\n",
        " \n",
        " 3) 적용하기: SHAP 활용: Red Wine Quality"
      ]
    },
    {
      "cell_type": "markdown",
      "metadata": {
        "id": "e3zZrkoUF5N7",
        "colab_type": "text"
      },
      "source": [
        "## 1) 실습 환경 만들기 Google Colab\n",
        "### SHAP 모듈 설치 방법\n",
        "#### 설치 방법 - PyPI로 설치 (pip install)"
      ]
    },
    {
      "cell_type": "code",
      "metadata": {
        "id": "_DXPd8PohWlW",
        "colab_type": "code",
        "colab": {}
      },
      "source": [
        "# SHAP 모듈 설치\n",
        "!pip install shap"
      ],
      "execution_count": 0,
      "outputs": []
    },
    {
      "cell_type": "markdown",
      "metadata": {
        "id": "WeEWcROs5RZ-",
        "colab_type": "text"
      },
      "source": [
        "#### 구글 드라이브와 Colab 연동"
      ]
    },
    {
      "cell_type": "code",
      "metadata": {
        "id": "MScjXuqD9O3n",
        "colab_type": "code",
        "colab": {}
      },
      "source": [
        "# 구글 드라이브와 Colab 연동\n",
        "from google.colab import drive\n",
        "drive.mount('/content/drive') # 출력되는 URL에 접속하여 verification code 복사 및 붙여넣기"
      ],
      "execution_count": 0,
      "outputs": []
    },
    {
      "cell_type": "code",
      "metadata": {
        "id": "L24mh9-1-Gqo",
        "colab_type": "code",
        "colab": {}
      },
      "source": [
        "# 작업할 path로 변경\n",
        "import os\n",
        "os.chdir('/content/drive/My Drive/PyConKorea2019-Tutorials/SHAP') \n",
        "os.listdir(os.getcwd()) # 현재 path에 존재하는 파일 목록 확인"
      ],
      "execution_count": 0,
      "outputs": []
    },
    {
      "cell_type": "code",
      "metadata": {
        "id": "5KLjTSO5BsaF",
        "colab_type": "code",
        "colab": {}
      },
      "source": [
        "# 현재 path 확인\n",
        "os.getcwd() "
      ],
      "execution_count": 0,
      "outputs": []
    },
    {
      "cell_type": "code",
      "metadata": {
        "id": "hOuZw9VhgKCu",
        "colab_type": "code",
        "colab": {}
      },
      "source": [
        "# 경고 메시지 무시\n",
        "import warnings\n",
        "warnings.filterwarnings(action='ignore')"
      ],
      "execution_count": 0,
      "outputs": []
    },
    {
      "cell_type": "markdown",
      "metadata": {
        "id": "vFMb5TFHi-Vv",
        "colab_type": "text"
      },
      "source": [
        "## 2) 따라하기: SHAP 실습\n",
        "### DeepExplainer\n",
        "#### MNIST classification with keras"
      ]
    },
    {
      "cell_type": "code",
      "metadata": {
        "id": "2nKSFB-fftjn",
        "colab_type": "code",
        "colab": {}
      },
      "source": [
        "# 사용할 패키지 불러오기\n",
        "from __future__ import print_function\n",
        "import keras\n",
        "from keras.datasets import mnist\n",
        "from keras.models import Sequential\n",
        "from keras.layers import Dense, Dropout, Flatten\n",
        "from keras.layers import Conv2D, MaxPooling2D\n",
        "from keras import backend as K"
      ],
      "execution_count": 0,
      "outputs": []
    },
    {
      "cell_type": "code",
      "metadata": {
        "colab_type": "code",
        "id": "y5x6dgjkltXR",
        "colab": {}
      },
      "source": [
        "# 데이터셋 불러와서 훈련셋과 검증셋 분리\n",
        "(x_train, y_train), (x_test, y_test) = mnist.load_data()"
      ],
      "execution_count": 0,
      "outputs": []
    },
    {
      "cell_type": "code",
      "metadata": {
        "colab_type": "code",
        "id": "_DNOi40VluRD",
        "colab": {}
      },
      "source": [
        "# 데이터셋 전처리\n",
        "img_rows, img_cols = 28, 28\n",
        "if K.image_data_format() == 'channels_first':\n",
        "    x_train = x_train.reshape(x_train.shape[0], 1, img_rows, img_cols)\n",
        "    x_test = x_test.reshape(x_test.shape[0], 1, img_rows, img_cols)\n",
        "    input_shape = (1, img_rows, img_cols)\n",
        "else:\n",
        "    x_train = x_train.reshape(x_train.shape[0], img_rows, img_cols, 1)\n",
        "    x_test = x_test.reshape(x_test.shape[0], img_rows, img_cols, 1)\n",
        "    input_shape = (img_rows, img_cols, 1)\n",
        "\n",
        "x_train = x_train.astype('float32')\n",
        "x_test = x_test.astype('float32')\n",
        "x_train /= 255\n",
        "x_test /= 255\n",
        "print('x_train shape:', x_train.shape)\n",
        "print(x_train.shape[0], 'train samples')\n",
        "print(x_test.shape[0], 'test samples')"
      ],
      "execution_count": 0,
      "outputs": []
    },
    {
      "cell_type": "code",
      "metadata": {
        "id": "94TFvdsFf0LF",
        "colab_type": "code",
        "colab": {}
      },
      "source": [
        "# 원핫인코딩 (one-hot encoding) 처리\n",
        "num_classes = 10\n",
        "y_train = keras.utils.to_categorical(y_train, num_classes)\n",
        "y_test = keras.utils.to_categorical(y_test, num_classes)"
      ],
      "execution_count": 0,
      "outputs": []
    },
    {
      "cell_type": "code",
      "metadata": {
        "id": "tL8cxLNDf17c",
        "colab_type": "code",
        "colab": {}
      },
      "source": [
        "# 모델 구성\n",
        "model = Sequential()\n",
        "model.add(Conv2D(32, kernel_size=(3, 3),\n",
        "                 activation='relu',\n",
        "                 input_shape=input_shape))\n",
        "model.add(Conv2D(64, (3, 3), activation='relu'))\n",
        "model.add(MaxPooling2D(pool_size=(2, 2)))\n",
        "model.add(Dropout(0.25))\n",
        "model.add(Flatten())\n",
        "model.add(Dense(128, activation='relu'))\n",
        "model.add(Dropout(0.5))\n",
        "model.add(Dense(num_classes, activation='softmax'))"
      ],
      "execution_count": 0,
      "outputs": []
    },
    {
      "cell_type": "code",
      "metadata": {
        "id": "3MvQazPf4Qny",
        "colab_type": "code",
        "colab": {}
      },
      "source": [
        "model.summary()"
      ],
      "execution_count": 0,
      "outputs": []
    },
    {
      "cell_type": "code",
      "metadata": {
        "id": "lm4WuK8af3_q",
        "colab_type": "code",
        "colab": {}
      },
      "source": [
        "# 모델 학습과정 설정\n",
        "model.compile(loss=keras.losses.categorical_crossentropy,\n",
        "              optimizer=keras.optimizers.Adadelta(),\n",
        "              metrics=['accuracy'])"
      ],
      "execution_count": 0,
      "outputs": []
    },
    {
      "cell_type": "code",
      "metadata": {
        "id": "_bML0riHf5Zs",
        "colab_type": "code",
        "colab": {}
      },
      "source": [
        "# 모델 학습\n",
        "batch_size = 128\n",
        "epochs = 2\n",
        "model.fit(x_train, y_train,\n",
        "          batch_size=batch_size,\n",
        "          epochs=epochs,\n",
        "          verbose=1,\n",
        "          validation_data=(x_test, y_test))"
      ],
      "execution_count": 0,
      "outputs": []
    },
    {
      "cell_type": "code",
      "metadata": {
        "id": "VB22eDRsf8as",
        "colab_type": "code",
        "outputId": "1edb7028-e315-46ae-ffc2-3fa1e17d104e",
        "colab": {
          "base_uri": "https://localhost:8080/",
          "height": 55
        }
      },
      "source": [
        "# 모델 평가\n",
        "score = model.evaluate(x_test, y_test, verbose=0)\n",
        "print('Test loss:', score[0])\n",
        "print('Test accuracy:', score[1])"
      ],
      "execution_count": 0,
      "outputs": [
        {
          "output_type": "stream",
          "text": [
            "Test loss: 0.042545035073976036\n",
            "Test accuracy: 0.9871\n"
          ],
          "name": "stdout"
        }
      ]
    },
    {
      "cell_type": "code",
      "metadata": {
        "id": "0km3as4jgoce",
        "colab_type": "code",
        "colab": {}
      },
      "source": [
        "# 설명 모듈 불러오기\n",
        "import shap\n",
        "import numpy as np"
      ],
      "execution_count": 0,
      "outputs": []
    },
    {
      "cell_type": "code",
      "metadata": {
        "id": "b-SW7pN2yoYc",
        "colab_type": "code",
        "colab": {}
      },
      "source": [
        "# shapley value 계산을 위한 백그라운드 데이터 셋 랜덤으로 선택\n",
        "background = x_train[np.random.choice(x_train.shape[0], 1000, replace=False)]"
      ],
      "execution_count": 0,
      "outputs": []
    },
    {
      "cell_type": "code",
      "metadata": {
        "id": "K-vEJfthlO_2",
        "colab_type": "code",
        "colab": {}
      },
      "source": [
        "# 설명 모델 생성\n",
        "explainer = shap.DeepExplainer(model, background)"
      ],
      "execution_count": 0,
      "outputs": []
    },
    {
      "cell_type": "code",
      "metadata": {
        "id": "2oLe6t_ryp3q",
        "colab_type": "code",
        "colab": {}
      },
      "source": [
        "# 테스트 입력 영상 데이터에 대한 Shap value 계산\n",
        "test_sample = x_test[15:18]\n",
        "shap_values = explainer.shap_values(test_sample)\n",
        "\n",
        "# 입력 데이터 공헌도 시각화\n",
        "shap.image_plot(shap_values, test_sample)"
      ],
      "execution_count": 0,
      "outputs": []
    },
    {
      "cell_type": "markdown",
      "metadata": {
        "id": "ISzdy0ls9cw8",
        "colab_type": "text"
      },
      "source": [
        "## KernelExplainer\n",
        "\n",
        "### Iris classification with sklearn\n"
      ]
    },
    {
      "cell_type": "code",
      "metadata": {
        "id": "9uKm08lLqRYC",
        "colab_type": "code",
        "colab": {}
      },
      "source": [
        "!pip install shap"
      ],
      "execution_count": 0,
      "outputs": []
    },
    {
      "cell_type": "code",
      "metadata": {
        "id": "RwLpvQecr8B5",
        "colab_type": "code",
        "colab": {}
      },
      "source": [
        "# 사용할 모듈 불러오기\n",
        "import sklearn\n",
        "from sklearn.model_selection import train_test_split\n",
        "import numpy as np\n",
        "import pandas as pd\n",
        "import shap"
      ],
      "execution_count": 0,
      "outputs": []
    },
    {
      "cell_type": "code",
      "metadata": {
        "id": "S0x7Y3RiloPL",
        "colab_type": "code",
        "colab": {}
      },
      "source": [
        "# Iris 데이터 불러오기\n",
        "d = sklearn.datasets.load_iris()\n",
        "df = pd.DataFrame(data=d.data, columns=d.feature_names)"
      ],
      "execution_count": 0,
      "outputs": []
    },
    {
      "cell_type": "code",
      "metadata": {
        "id": "7nyJ-M1KuJuE",
        "colab_type": "code",
        "colab": {}
      },
      "source": [
        "df"
      ],
      "execution_count": 0,
      "outputs": []
    },
    {
      "cell_type": "code",
      "metadata": {
        "id": "te-v-NU9uKvr",
        "colab_type": "code",
        "colab": {}
      },
      "source": [
        "print(d.target_names)\n",
        "print(d.target)"
      ],
      "execution_count": 0,
      "outputs": []
    },
    {
      "cell_type": "code",
      "metadata": {
        "id": "sGncuy_dtmlj",
        "colab_type": "code",
        "colab": {}
      },
      "source": [
        "# 훈련셋과 테스트셋으로 분리\n",
        "X_train,X_test,Y_train,Y_test = train_test_split(df, d.target,\n",
        "                                                 test_size=0.2, random_state=0)"
      ],
      "execution_count": 0,
      "outputs": []
    },
    {
      "cell_type": "code",
      "metadata": {
        "id": "CL0F4db7A-Vt",
        "colab_type": "code",
        "colab": {}
      },
      "source": [
        "# 분류기 모델 정의\n",
        "classifier = sklearn.linear_model.LogisticRegression()"
      ],
      "execution_count": 0,
      "outputs": []
    },
    {
      "cell_type": "code",
      "metadata": {
        "id": "4a0Y-4AQsGPh",
        "colab_type": "code",
        "colab": {}
      },
      "source": [
        "# 분류기 모델 학습\n",
        "classifier.fit(X_train, Y_train)"
      ],
      "execution_count": 0,
      "outputs": []
    },
    {
      "cell_type": "code",
      "metadata": {
        "id": "Wav_ggfjsGND",
        "colab_type": "code",
        "colab": {}
      },
      "source": [
        "# 분류 정확도 출력\n",
        "def print_accuracy(f):\n",
        "    print(\"Accuracy = {0}%\".format(100*np.sum(f(X_test) == Y_test)/len(Y_test)))\n",
        "\n",
        "print_accuracy(classifier.predict)"
      ],
      "execution_count": 0,
      "outputs": []
    },
    {
      "cell_type": "code",
      "metadata": {
        "id": "ZINsc_2wsGKT",
        "colab_type": "code",
        "colab": {}
      },
      "source": [
        "# 설명 모델 생성\n",
        "explainer = shap.KernelExplainer(classifier.predict_proba, X_train)"
      ],
      "execution_count": 0,
      "outputs": []
    },
    {
      "cell_type": "code",
      "metadata": {
        "id": "K0sedxLoTXWL",
        "colab_type": "code",
        "colab": {}
      },
      "source": [
        "# shapley value 계산\n",
        "test_sample = X_test[0:1]\n",
        "shap_values = explainer.shap_values(test_sample)\n",
        "\n",
        "# shapley value 시각화\n",
        "shap.initjs()\n",
        "classNumber = 0 # 0: setosa / 1: versicolor / 2: virginica\n",
        "shap.force_plot(explainer.expected_value[classNumber], \n",
        "                shap_values[classNumber], test_sample)"
      ],
      "execution_count": 0,
      "outputs": []
    },
    {
      "cell_type": "code",
      "metadata": {
        "id": "25TiVrj8TMb7",
        "colab_type": "code",
        "colab": {}
      },
      "source": [
        "shap.initjs()\n",
        "classNumber = 1 # 0: setosa / 1: versicolor / 2: virginica\n",
        "shap.force_plot(explainer.expected_value[classNumber], \n",
        "                shap_values[classNumber], test_sample)"
      ],
      "execution_count": 0,
      "outputs": []
    },
    {
      "cell_type": "code",
      "metadata": {
        "id": "Jz_12WOs8DtW",
        "colab_type": "code",
        "colab": {}
      },
      "source": [
        "shap.initjs()\n",
        "classNumber = 2 # 0: setosa / 1: versicolor / 2: virginica\n",
        "shap.force_plot(explainer.expected_value[classNumber], \n",
        "                shap_values[classNumber], test_sample)"
      ],
      "execution_count": 0,
      "outputs": []
    },
    {
      "cell_type": "code",
      "metadata": {
        "id": "gcIH_KgX8lfX",
        "colab_type": "code",
        "colab": {}
      },
      "source": [
        "Y_test"
      ],
      "execution_count": 0,
      "outputs": []
    },
    {
      "cell_type": "code",
      "metadata": {
        "id": "0UqHW1DN8PHe",
        "colab_type": "code",
        "colab": {}
      },
      "source": [
        "X_test"
      ],
      "execution_count": 0,
      "outputs": []
    },
    {
      "cell_type": "markdown",
      "metadata": {
        "colab_type": "text",
        "id": "HsNJ-MsTTLLm"
      },
      "source": [
        "## TreeExplainer\n",
        "\n",
        "### boston house prices regression with xgboost"
      ]
    },
    {
      "cell_type": "code",
      "metadata": {
        "id": "a_Do5pHLI7vZ",
        "colab_type": "code",
        "colab": {}
      },
      "source": [
        "# 사용할 모듈 불러오기\n",
        "import xgboost\n",
        "import pandas as pd\n",
        "import shap"
      ],
      "execution_count": 0,
      "outputs": []
    },
    {
      "cell_type": "code",
      "metadata": {
        "id": "QbRaRIKGI7o2",
        "colab_type": "code",
        "colab": {}
      },
      "source": [
        "# boston 데이터 불러오기\n",
        "d = sklearn.datasets.load_boston()\n",
        "df = pd.DataFrame(data=d.data, columns=d.feature_names)\n",
        "X = df\n",
        "y = d.target"
      ],
      "execution_count": 0,
      "outputs": []
    },
    {
      "cell_type": "code",
      "metadata": {
        "id": "dvTbRCMDNNWm",
        "colab_type": "code",
        "colab": {}
      },
      "source": [
        "X.shape"
      ],
      "execution_count": 0,
      "outputs": []
    },
    {
      "cell_type": "code",
      "metadata": {
        "id": "DWJ_E3OANQMk",
        "colab_type": "code",
        "colab": {}
      },
      "source": [
        "y.shape"
      ],
      "execution_count": 0,
      "outputs": []
    },
    {
      "cell_type": "code",
      "metadata": {
        "id": "XoSF3q_7NCxk",
        "colab_type": "code",
        "colab": {}
      },
      "source": [
        "X.head(1)"
      ],
      "execution_count": 0,
      "outputs": []
    },
    {
      "cell_type": "markdown",
      "metadata": {
        "id": "eC0-0FbFPh67",
        "colab_type": "text"
      },
      "source": [
        "특징 데이터 X:\n",
        "- CRIM: 범죄율\n",
        "- INDUS: 비소매상업지역 면적 비율\n",
        "- NOX: 일산화질소 농도\n",
        "- RM: 주택당 방 수\n",
        "- LSTAT: 인구 중 하위 계층 비율\n",
        "- B: 인구 중 흑인 비율\n",
        "- PTRATIO: 학생/교사 비율\n",
        "- ZN: 25,000 평방피트를 초과 거주지역 비율\n",
        "- CHAS: 찰스강의 경계에 위치한 경우는 1, 아니면 0\n",
        "- AGE: 1940년 이전에 건축된 주택의 비율\n",
        "- RAD: 방사형 고속도로까지의 거리\n",
        "- DIS: 직업센터의 거리\n",
        "- TAX: 재산세율"
      ]
    },
    {
      "cell_type": "code",
      "metadata": {
        "id": "OW_JrkhcPSuE",
        "colab_type": "code",
        "colab": {}
      },
      "source": [
        "y[0:10]"
      ],
      "execution_count": 0,
      "outputs": []
    },
    {
      "cell_type": "markdown",
      "metadata": {
        "id": "58he1_ZvMMob",
        "colab_type": "text"
      },
      "source": [
        "타겟 데이터 y:\n",
        "- 1978 보스턴 주택 가격\n",
        "- 506개 타운의 주택 가격 중앙값 (단위 1,000 달러)"
      ]
    },
    {
      "cell_type": "code",
      "metadata": {
        "id": "j-KGnuwHI7lT",
        "colab_type": "code",
        "colab": {}
      },
      "source": [
        "# 예측 모델 학습(XGBoost)\n",
        "model = xgboost.train({\"learning_rate\": 0.01}, xgboost.DMatrix(X, label=y), 100)"
      ],
      "execution_count": 0,
      "outputs": []
    },
    {
      "cell_type": "code",
      "metadata": {
        "id": "YM-owDczI7hY",
        "colab_type": "code",
        "colab": {}
      },
      "source": [
        "# 설명 모델 생성\n",
        "explainer = shap.TreeExplainer(model)\n",
        "# shapley value 계산\n",
        "shap_values = explainer.shap_values(X)"
      ],
      "execution_count": 0,
      "outputs": []
    },
    {
      "cell_type": "code",
      "metadata": {
        "id": "ij5N6XmXI7de",
        "colab_type": "code",
        "colab": {}
      },
      "source": [
        "# 하나의 데이터에 대해 shapley value 시각화\n",
        "shap.initjs()\n",
        "shap.force_plot(explainer.expected_value, shap_values[0,:], X.iloc[0,:])"
      ],
      "execution_count": 0,
      "outputs": []
    },
    {
      "cell_type": "code",
      "metadata": {
        "id": "mA_5FodJUGro",
        "colab_type": "code",
        "colab": {}
      },
      "source": [
        "# 학습 데이터 전체에 대해 시각화\n",
        "shap.initjs()\n",
        "shap.force_plot(explainer.expected_value, shap_values, X)"
      ],
      "execution_count": 0,
      "outputs": []
    },
    {
      "cell_type": "markdown",
      "metadata": {
        "id": "mWimm881ngJC",
        "colab_type": "text"
      },
      "source": [
        "## 3) 적용하기: SHAP 활용 (Exercise): '따라하기: SHAP 실습' 내용을 참고하셔서 직접 설명 모델을 활용해봅시다.\n",
        "## 아래 코드 중 Hint를 보시고 [빈칸] 부분을 알맞은 코드를 입력해주세요.\n",
        "### Red Wine Quality\n",
        "#### Classification with XGBClassifier"
      ]
    },
    {
      "cell_type": "code",
      "metadata": {
        "id": "KkbW4qF1nfK_",
        "colab_type": "code",
        "colab": {}
      },
      "source": [
        "## 사용할 모듈 불러오기\n",
        "# 연산 모듈\n",
        "import pandas as pd\n",
        "import numpy as np\n",
        "# 시각화 모듈\n",
        "import matplotlib.pyplot as plt\n",
        "import seaborn as sns \n",
        "# 데이터 처리 모듈\n",
        "from sklearn.model_selection import train_test_split\n",
        "# 행렬 연산 모듈\n",
        "from sklearn import metrics\n",
        "from sklearn.metrics import accuracy_score, roc_curve, auc\n",
        "# xgboost 모델 모듈\n",
        "from xgboost import XGBClassifier, plot_importance\n",
        "# 경고 메시지 무시\n",
        "import warnings\n",
        "warnings.filterwarnings('ignore')\n",
        "# 그래프 스타일 설정\n",
        "plt.style.use('fivethirtyeight')\n",
        "%matplotlib inline"
      ],
      "execution_count": 0,
      "outputs": []
    },
    {
      "cell_type": "code",
      "metadata": {
        "id": "9j3TZGiXZqwF",
        "colab_type": "code",
        "colab": {}
      },
      "source": [
        "# csv 파일 레드 와인 데이터 불러오기\n",
        "'''Hint: pandas 모듈에서 csv 파일을 read 해오는 함수를 제공'''\n",
        "wines = [빈칸]('/content/drive/My Drive/PyConKorea2019-Tutorials/SHAP/winequality-red.csv')"
      ],
      "execution_count": 0,
      "outputs": []
    },
    {
      "cell_type": "code",
      "metadata": {
        "id": "Zpi_HLjb7FbM",
        "colab_type": "code",
        "colab": {}
      },
      "source": [
        "wines.info()"
      ],
      "execution_count": 0,
      "outputs": []
    },
    {
      "cell_type": "code",
      "metadata": {
        "id": "pwp1qbd9nnIq",
        "colab_type": "code",
        "colab": {}
      },
      "source": [
        "wines.shape"
      ],
      "execution_count": 0,
      "outputs": []
    },
    {
      "cell_type": "markdown",
      "metadata": {
        "id": "duqPRyfK9m5F",
        "colab_type": "text"
      },
      "source": [
        "특징 데이터:\n",
        "- fixed acidity: 고정 산도\n",
        "- volatile acidity: 휘발성 산도\n",
        "- citric acid: 구연산\n",
        "- residual sugar: 자연 발효로 생성된 당분\n",
        "- chlorides: 염소\n",
        "- free sulfur dioxide: 유황 이산화황\n",
        "- total sulfur dioxide: 총 이산화황\n",
        "- density: 밀도\n",
        "- pH\n",
        "- sulphates: 황산염\n",
        "- alcohol: 알코올\n",
        "- quality (score between 0 and 10): 품질(0~10점)"
      ]
    },
    {
      "cell_type": "code",
      "metadata": {
        "id": "zCjyVKjVnnLC",
        "colab_type": "code",
        "colab": {}
      },
      "source": [
        "# 레드 와인 데이터 중 의미 있는 feature 목록으로 만들기 위해 데이터 전처리\n",
        "target = 'quality' # # Extracting our target variable \n",
        "features_list = list(wines.columns)\n",
        "features_list.remove(target) # # and creating a usefull feature list of dependant variables\n",
        "y = wines.pop('quality') # # create our separate target vector\n",
        "y = y.apply(lambda x: 0 if x <= 5 else 1) # mapping the target to a binary class at quality = 5\n",
        "y.sum() / len(y) # quickly check that we have a balanced target partition"
      ],
      "execution_count": 0,
      "outputs": []
    },
    {
      "cell_type": "code",
      "metadata": {
        "id": "6iZajs_7nnCK",
        "colab_type": "code",
        "colab": {}
      },
      "source": [
        "# 훈련 셋과 테스트 셋으로 분리\n",
        "'''Hint: sklearn.model_selection 클래스에서 제공하는 함수'''\n",
        "X_train, X_test, y_train, y_test = [빈칸](wines, y, test_size=0.3, random_state=0)\n",
        "X_train.shape, X_test.shape"
      ],
      "execution_count": 0,
      "outputs": []
    },
    {
      "cell_type": "code",
      "metadata": {
        "id": "tvm5TXvAnnAH",
        "colab_type": "code",
        "colab": {}
      },
      "source": [
        "# xgboost 분류기 생성\n",
        "xgb = XGBClassifier(objective='binary:logistic', random_state=33, n_jobs=-1)\n",
        "\n",
        "# xgboost 분류기 학습\n",
        "'''Hint: 학습할 때 쓰는 함수'''\n",
        "xgb.[빈칸](X_train, y_train)"
      ],
      "execution_count": 0,
      "outputs": []
    },
    {
      "cell_type": "code",
      "metadata": {
        "id": "WB94t_zwnm-O",
        "colab_type": "code",
        "colab": {}
      },
      "source": [
        "# 분류율 평가 함수\n",
        "def evaluation_scores(test, prediction, target_names=None):\n",
        "    print('Accuracy:', np.round(metrics.accuracy_score(test, prediction), 4)) \n",
        "    print('-'*60)\n",
        "    print('classification report:\\n\\n', metrics.classification_report(y_true=test, y_pred=prediction, target_names=target_names)) \n",
        "    \n",
        "    classes = [0, 1]\n",
        "    total_classes = len(classes)\n",
        "    level_labels = [total_classes*[0], list(range(total_classes))]\n",
        "\n",
        "    cm = metrics.confusion_matrix(y_true=test, y_pred=prediction, labels=classes)\n",
        "    cm_frame = pd.DataFrame(data=cm, columns=pd.MultiIndex(levels=[['Predicted:'], classes], labels=level_labels), \n",
        "                            index=pd.MultiIndex(levels=[['Actual:'], classes], labels=level_labels))\n",
        "    \n",
        "    print('-'*60)\n",
        "    print('Confusion matrix:\\n')\n",
        "    print(cm_frame)\n",
        "    \n",
        "# 학습 모델 성능 평가\n",
        "xgb_predictions = xgb.predict(X_test)\n",
        "evaluation_scores(y_test, xgb_predictions, target_names=['Low Quality', 'Hight Quality'])"
      ],
      "execution_count": 0,
      "outputs": []
    },
    {
      "cell_type": "code",
      "metadata": {
        "id": "iJNpu9stn_rI",
        "colab_type": "code",
        "colab": {}
      },
      "source": [
        "# 설명 모델 생성\n",
        "'''Hint: Tree 모델을 사용합니다.'''\n",
        "explainer = shap.[빈칸](xgb)\n",
        "# shapley value 계산\n",
        "'''Hint: Shapley value를 계산합니다.'''\n",
        "shap_values = [빈칸](X_test)"
      ],
      "execution_count": 0,
      "outputs": []
    },
    {
      "cell_type": "markdown",
      "metadata": {
        "id": "I_LvKM3MoGQp",
        "colab_type": "text"
      },
      "source": [
        "### Predicting when a particular wine quality will be <= 5 ('Low Quality')"
      ]
    },
    {
      "cell_type": "code",
      "metadata": {
        "id": "Vijw3dj5n_mn",
        "colab_type": "code",
        "colab": {}
      },
      "source": [
        "# 테스트 데이터 1개 샘플로 시각화\n",
        "'''Hint: shapley value를 시각화합니다.'''\n",
        "shap.initjs()\n",
        "shap.[빈칸](explainer.expected_value, shap_values[0,:], X_test.iloc[0,:])"
      ],
      "execution_count": 0,
      "outputs": []
    },
    {
      "cell_type": "markdown",
      "metadata": {
        "id": "gjFUt9WroIJB",
        "colab_type": "text"
      },
      "source": [
        "### Predicting when a particular wine quality will be > 5 ('Hight Quality')"
      ]
    },
    {
      "cell_type": "code",
      "metadata": {
        "id": "Xg-Ox3MKn_kZ",
        "colab_type": "code",
        "colab": {}
      },
      "source": [
        "'''Hint: shapley value를 시각화합니다.'''\n",
        "shap.initjs()\n",
        "shap.[빈칸](explainer.expected_value, shap_values[4,:], X_test.iloc[4,:])"
      ],
      "execution_count": 0,
      "outputs": []
    }
  ]
}