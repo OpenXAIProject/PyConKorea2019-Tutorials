{
  "nbformat": 4,
  "nbformat_minor": 0,
  "metadata": {
    "colab": {
      "name": "image_simple_example.ipynb",
      "version": "0.3.2",
      "provenance": [],
      "collapsed_sections": []
    },
    "kernelspec": {
      "name": "python3",
      "display_name": "Python 3"
    },
    "accelerator": "GPU"
  },
  "cells": [
    {
      "cell_type": "markdown",
      "metadata": {
        "id": "zsVnaf05nibG",
        "colab_type": "text"
      },
      "source": [
        "# 실행 전 런타임 유형을 GPU로 변경 (Runtime > Change Runtime time) >> GPU"
      ]
    },
    {
      "cell_type": "code",
      "metadata": {
        "id": "gEyafmlRglRW",
        "colab_type": "code",
        "colab": {}
      },
      "source": [
        "# 구글 드라이브와 Colab 연동\n",
        "from google.colab import drive\n",
        "drive.mount('/content/drive') # 'Go to this URL in a browser URL'에 접속하여 이용동의 후 인증코드 복사해서 붙여넣기"
      ],
      "execution_count": 0,
      "outputs": []
    },
    {
      "cell_type": "code",
      "metadata": {
        "id": "nMaUXkRYgl7I",
        "colab_type": "code",
        "colab": {}
      },
      "source": [
        "# 작업 경로를 구글 드라이브로 변경\n",
        "import os\n",
        "os.chdir('/content/drive/My Drive/PyConKorea2019-Tutorials/LRP')\n",
        "os.getcwd()"
      ],
      "execution_count": 0,
      "outputs": []
    },
    {
      "cell_type": "code",
      "metadata": {
        "id": "fbWU5JUwhRuE",
        "colab_type": "code",
        "colab": {}
      },
      "source": [
        "# 사용할 모듈을 설치(tensorflow, keras, numpy, matplotlib등 자주 사용하는 모듈은 이미 코랩에 설치되어 있음 )\n",
        "!pip install innvestigate"
      ],
      "execution_count": 0,
      "outputs": []
    },
    {
      "cell_type": "code",
      "metadata": {
        "id": "DNnPiIY-hqCB",
        "colab_type": "code",
        "colab": {}
      },
      "source": [
        "# 사용할 전체 모듈을 불러옴\n",
        "import innvestigate\n",
        "import innvestigate.utils\n",
        "import numpy as np\n",
        "import matplotlib.pyplot as plt\n",
        "import PIL\n",
        "\n",
        "from keras.applications import vgg16, imagenet_utils"
      ],
      "execution_count": 0,
      "outputs": []
    },
    {
      "cell_type": "code",
      "metadata": {
        "id": "sPRg1AWUi_xc",
        "colab_type": "code",
        "colab": {}
      },
      "source": [
        "# 시각화할 이미지 선택\n",
        "image_path = \"husky.jpg\""
      ],
      "execution_count": 0,
      "outputs": []
    },
    {
      "cell_type": "code",
      "metadata": {
        "id": "bktkdWfUkOMm",
        "colab_type": "code",
        "colab": {}
      },
      "source": [
        "# 이미지를 불러옴\n",
        "img = PIL.Image.open(image_path)\n",
        "img = img.resize((224, 224))\n",
        "plt.imshow(img)\n",
        "plt.show()"
      ],
      "execution_count": 0,
      "outputs": []
    },
    {
      "cell_type": "code",
      "metadata": {
        "id": "hxF6ec1DlBpn",
        "colab_type": "code",
        "colab": {}
      },
      "source": [
        "# 2차원 이미지를 CNN학습이 가능하도록 batch, channel이 추가된 4차원 배열로 전처리(preprocessing)\n",
        "img_array = np.array(img)\n",
        "img_array = img_array[np.newaxis, :]\n",
        "img_array = img_array.astype(np.float)\n",
        "img_array = imagenet_utils.preprocess_input(img_array)"
      ],
      "execution_count": 0,
      "outputs": []
    },
    {
      "cell_type": "code",
      "metadata": {
        "id": "HGAPyWhjjddS",
        "colab_type": "code",
        "colab": {}
      },
      "source": [
        "# 전치리된 형태확인\n",
        "img_array.shape"
      ],
      "execution_count": 0,
      "outputs": []
    },
    {
      "cell_type": "code",
      "metadata": {
        "id": "E-fxWej7jWYU",
        "colab_type": "code",
        "colab": {}
      },
      "source": [
        "# 전처리 된 이미지를 시각화   \n",
        "plt.imshow(img_array[0]) # imshow는 3차원까지만 시각화 가능하여 (224, 224, 3)차원을 시각화\n",
        "plt.show() # RGB 3channel을 사용하여 표현"
      ],
      "execution_count": 0,
      "outputs": []
    },
    {
      "cell_type": "code",
      "metadata": {
        "id": "obv17pQx16nW",
        "colab_type": "code",
        "colab": {}
      },
      "source": [
        "# 각 채널을 따로 출력해서 보면 아래와 같음\n",
        "plt.subplot(1,3,1)\n",
        "plt.imshow(img_array[0,:,:,0],cmap=\"jet\")\n",
        "plt.subplot(1,3,2)\n",
        "plt.imshow(img_array[0,:,:,1],cmap=\"jet\")\n",
        "plt.subplot(1,3,3)\n",
        "plt.imshow(img_array[0,:,:,2],cmap=\"jet\")\n",
        "plt.show() "
      ],
      "execution_count": 0,
      "outputs": []
    },
    {
      "cell_type": "code",
      "metadata": {
        "id": "dTh3hQN-j47v",
        "colab_type": "code",
        "colab": {}
      },
      "source": [
        "# VGG모델로 학습된 모델을 불러와 softmax를 통과하지 않은(without) 값을 불러옴\n",
        "model = vgg16.VGG16()\n",
        "model = innvestigate.utils.model_wo_softmax(model)"
      ],
      "execution_count": 0,
      "outputs": []
    },
    {
      "cell_type": "code",
      "metadata": {
        "id": "sOKKVmC6kEf0",
        "colab_type": "code",
        "colab": {}
      },
      "source": [
        "# 'deep_taylor' 방식을 활용한 분석기(analyer)를 생성하고 적용함\n",
        "analyzer = innvestigate.create_analyzer(\"deep_taylor\", model)\n",
        "a = analyzer.analyze(img_array)"
      ],
      "execution_count": 0,
      "outputs": []
    },
    {
      "cell_type": "markdown",
      "metadata": {
        "id": "Dcs8AEZAuk4_",
        "colab_type": "text"
      },
      "source": [
        "*  'deep_taylor' 대신 'deconvnet', 'lrp', 'lrp.z', 'lrp.z_IB', 'lrp.epsilon',  'lrp.alpha_1_beta_0', 'lrp.alpha_1_beta_0_IB', 'lrp.z_plus', 'lrp.z_plus_fast', 'lrp.sequential_preset_a', 'lrp.sequential_preset_b', 'lrp.sequential_preset_a_flat', 'lrp.sequential_preset_b_flat', 'deep_taylor', 'deep_taylor.bounded', 'deep_lift.wrapper', 'pattern.net', 'pattern.attribution' 사용가능\n",
        "\n",
        "*  각 모델의 자세한 사용법은 다음 링크활용\n",
        "https://github.com/albermax/innvestigate/blob/master/examples/notebooks/imagenet_compare_methods.ipynb\n",
        "\n"
      ]
    },
    {
      "cell_type": "code",
      "metadata": {
        "id": "n00gJHhE0HJo",
        "colab_type": "code",
        "colab": {}
      },
      "source": [
        "# 3개인 color 채널을 다시 한개로 통합함\n",
        "a = a.sum(axis=np.argmax(np.asarray(a.shape) == 3))\n",
        "\n",
        "# 값을 [-1, 1] 사이로 정규화함\n",
        "a /= np.max(np.abs(a))\n",
        "\n",
        "# 결과물을 출력\n",
        "plt.imshow(a[0], cmap=\"seismic\", clim=(-1, 1)) # heatmap형식으로 출력하도록 'seismic'설정"
      ],
      "execution_count": 0,
      "outputs": []
    }
  ]
}