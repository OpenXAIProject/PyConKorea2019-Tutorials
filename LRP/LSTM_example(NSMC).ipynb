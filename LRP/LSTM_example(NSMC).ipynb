{
  "nbformat": 4,
  "nbformat_minor": 0,
  "metadata": {
    "kernelspec": {
      "display_name": "Python 3",
      "language": "python",
      "name": "python3"
    },
    "language_info": {
      "codemirror_mode": {
        "name": "ipython",
        "version": 3
      },
      "file_extension": ".py",
      "mimetype": "text/x-python",
      "name": "python",
      "nbconvert_exporter": "python",
      "pygments_lexer": "ipython3",
      "version": "3.5.2"
    },
    "colab": {
      "name": "LSTM_example(NSMC).ipynb",
      "version": "0.3.2",
      "provenance": [],
      "collapsed_sections": []
    }
  },
  "cells": [
    {
      "cell_type": "markdown",
      "metadata": {
        "id": "GvMYh3bfoTvZ",
        "colab_type": "text"
      },
      "source": [
        "런타임 유형변경 >> CPU"
      ]
    },
    {
      "cell_type": "code",
      "metadata": {
        "id": "_NqkqtpEUcvo",
        "colab_type": "code",
        "colab": {}
      },
      "source": [
        "# 구글 드라이브와 Colab 연동\n",
        "from google.colab import drive\n",
        "drive.mount('/content/drive') # 출력되는 URL에 접속하여 verification code 복사 및 붙여넣기"
      ],
      "execution_count": 0,
      "outputs": []
    },
    {
      "cell_type": "code",
      "metadata": {
        "id": "JiYat5GsUcrh",
        "colab_type": "code",
        "colab": {}
      },
      "source": [
        "# 작업할 공간 설정\n",
        "import os\n",
        "os.getcwd() # 현재 path 확인"
      ],
      "execution_count": 0,
      "outputs": []
    },
    {
      "cell_type": "code",
      "metadata": {
        "id": "zRSCKBACoWuc",
        "colab_type": "code",
        "colab": {}
      },
      "source": [
        "os.chdir('/content/drive/My Drive/PyConKorea2019-Tutorials/LRP') # 작업할 path를 google drive로 이동\n",
        "os.getcwd()"
      ],
      "execution_count": 0,
      "outputs": []
    },
    {
      "cell_type": "code",
      "metadata": {
        "id": "PZvq3H7koXsL",
        "colab_type": "code",
        "colab": {}
      },
      "source": [
        "!pip install innvestigate"
      ],
      "execution_count": 0,
      "outputs": []
    },
    {
      "cell_type": "markdown",
      "metadata": {
        "id": "_HyTcDPRS5T0",
        "colab_type": "text"
      },
      "source": [
        "### 1. 전처리 (base code :  https://cyc1am3n.github.io/2018/11/10/classifying_korean_movie_review.html)"
      ]
    },
    {
      "cell_type": "code",
      "metadata": {
        "id": "tq-rM5tTS5T2",
        "colab_type": "code",
        "colab": {}
      },
      "source": [
        "# import json\n",
        "# import os\n",
        "# import nltk\n",
        "# import pickle\n",
        "# import numpy as np\n",
        "# from pprint import pprint\n",
        "\n",
        "# if os.path.isfile('nsmc/train_docs_han.json'):\n",
        "#     with open('nsmc/train_docs_han.json') as f:\n",
        "#         train_docs = json.load(f)\n",
        "#     with open('nsmc/test_docs_han.json') as f:\n",
        "#         test_docs = json.load(f) \n",
        "\n",
        "# else:\n",
        "#     train_docs = [(tokenize(row[1]), row[2]) for row in train_data] #row[1]은 문장, row[2]는 클래스\n",
        "#     test_docs = [(tokenize(row[1]), row[2]) for row in test_data]\n",
        "\n",
        "#     with open('nsmc/train_docs.json', 'w', encoding=\"utf-8\") as make_file:\n",
        "#         json.dump(train_docs, make_file, ensure_ascii=False, indent=\"\\t\")\n",
        "#     with open('nsmc/test_docs.json', 'w', encoding=\"utf-8\") as make_file:\n",
        "#         json.dump(test_docs, make_file, ensure_ascii=False, indent=\"\\t\")\n",
        "\n",
        "# pprint(train_docs[0])"
      ],
      "execution_count": 0,
      "outputs": []
    },
    {
      "cell_type": "code",
      "metadata": {
        "id": "CaZs5xsnS5T6",
        "colab_type": "code",
        "colab": {}
      },
      "source": [
        "# tokens = [t for d in train_docs for t in d[0]]\n",
        "# print(len(tokens))\n",
        "\n",
        "# text = nltk.Text(tokens, name='NMSC')\n",
        "# print(text)\n",
        "\n",
        "# train_y = [c for _, c in train_docs]\n",
        "# test_y = [c for _, c in test_docs]"
      ],
      "execution_count": 0,
      "outputs": []
    },
    {
      "cell_type": "code",
      "metadata": {
        "id": "Mzz2aVjF0DvM",
        "colab_type": "code",
        "colab": {}
      },
      "source": [
        "# import pickle\n",
        "# import numpy as np\n",
        "# #load \n",
        "# with open(\"nsmc/train_y.txt\", \"wb\") as fp:\n",
        "#     pickle.dump(train_y, fp)\n",
        "# with open(\"nsmc/test_y.txt\", \"wb\") as fp:\n",
        "#     pickle.dump(test_y, fp)"
      ],
      "execution_count": 0,
      "outputs": []
    },
    {
      "cell_type": "code",
      "metadata": {
        "scrolled": true,
        "id": "K1rXWgJkS5T9",
        "colab_type": "code",
        "colab": {}
      },
      "source": [
        "# # 전체 토큰의 개수\n",
        "# print(len(text.tokens))\n",
        "\n",
        "# # 중복을 제외한 토큰의 개수\n",
        "# print(len(set(text.tokens)))            \n",
        "\n",
        "# # 출현 빈도가 높은 상위 토큰 10개\n",
        "# pprint(text.vocab().most_common(10))"
      ],
      "execution_count": 0,
      "outputs": []
    },
    {
      "cell_type": "code",
      "metadata": {
        "id": "M88rKLAFS5UA",
        "colab_type": "code",
        "colab": {}
      },
      "source": [
        "# selected_words_10000 = [f[0] for f in text.vocab().most_common(10000)]\n",
        "\n",
        "# #train data\n",
        "# train_x_common_10000 = []\n",
        "# for i in range(len(train_docs)):\n",
        "#     _ = []\n",
        "#     for word in train_docs[i][0] :\n",
        "#         try : \n",
        "#             _.append(selected_words_10000.index(word))\n",
        "#         except :\n",
        "#             _.append(10000)\n",
        "#     train_x_common_10000.append(_)\n",
        "    \n",
        "# #test data\n",
        "# test_x_common_10000 = []\n",
        "# for i in range(len(test_docs)):\n",
        "#     _ = []\n",
        "#     for word in test_docs[i][0] :\n",
        "#         try : \n",
        "#             _.append(selected_words_10000.index(word))\n",
        "#         except :\n",
        "#             _.append(10000)\n",
        "#     test_x_common_10000.append(_)\n",
        "\n",
        "\n",
        "\n",
        "# # Save \n",
        "# x_train = np.asarray(train_x).astype('float32')\n",
        "# x_test = np.asarray(test_x).astype('float32')\n",
        "\n",
        "# y_train = np.asarray(train_y).astype('float32')\n",
        "# y_test = np.asarray(test_y).astype('float32')\n",
        "    \n",
        "# with open(\"selected_words_10000.txt\", \"wb\") as fp:\n",
        "#     pickle.dump(selected_words_10000, fp)    "
      ],
      "execution_count": 0,
      "outputs": []
    },
    {
      "cell_type": "code",
      "metadata": {
        "id": "ToSXWBuyS5UC",
        "colab_type": "code",
        "colab": {}
      },
      "source": [
        "import pickle\n",
        "import numpy as np\n",
        "#load \n",
        "with open(\"nsmc/nsmc_train_x.txt\", \"rb\") as fp:\n",
        "    X_train = pickle.load(fp)\n",
        "with open(\"nsmc/nsmc_test_x.txt\", \"rb\") as fp:\n",
        "    X_test = pickle.load(fp)\n",
        "with open(\"nsmc/nsmc_train_y.txt\", \"rb\") as fp:\n",
        "    train_y = pickle.load(fp)\n",
        "with open(\"nsmc/nsmc_test_y.txt\", \"rb\") as fp:\n",
        "    test_y = pickle.load(fp)\n",
        "with open(\"nsmc/nsmc_selected_words.txt\", \"rb\") as fp:\n",
        "    selected_words_10000 = pickle.load(fp) \n"
      ],
      "execution_count": 0,
      "outputs": []
    },
    {
      "cell_type": "markdown",
      "metadata": {
        "id": "XxFojuRES5UE",
        "colab_type": "text"
      },
      "source": [
        "### 2. LSTM 훈련"
      ]
    },
    {
      "cell_type": "code",
      "metadata": {
        "id": "6OewKb16S5UF",
        "colab_type": "code",
        "outputId": "f595419a-4368-4a59-8bf6-0b050f888b7d",
        "colab": {
          "base_uri": "https://localhost:8080/",
          "height": 35
        }
      },
      "source": [
        "import numpy as np\n",
        "import keras\n",
        "\n",
        "from keras.preprocessing.text import Tokenizer\n",
        "from keras.preprocessing.sequence import pad_sequences\n",
        "from keras.preprocessing import sequence\n",
        "from keras.models import Sequential\n",
        "from keras.layers import Dense, Dropout, Embedding, LSTM, Bidirectional\n",
        "from keras.models import Model, load_model\n",
        "\n",
        "import matplotlib.pyplot as plt\n",
        "from IPython.display import display, HTML\n",
        "\n",
        "from numpy import newaxis as na"
      ],
      "execution_count": 0,
      "outputs": [
        {
          "output_type": "stream",
          "text": [
            "Using TensorFlow backend.\n"
          ],
          "name": "stderr"
        }
      ]
    },
    {
      "cell_type": "code",
      "metadata": {
        "id": "Rm9TqutJS5UH",
        "colab_type": "code",
        "colab": {}
      },
      "source": [
        "max_features = 10000\n",
        "maxlen = 100\n",
        "batch_size = 1024"
      ],
      "execution_count": 0,
      "outputs": []
    },
    {
      "cell_type": "code",
      "metadata": {
        "id": "Lw1OdZpsS5UJ",
        "colab_type": "code",
        "colab": {}
      },
      "source": [
        "# One-hot encoding the output >> \n",
        "num_classes = 2\n",
        "y_train = keras.utils.to_categorical(train_y, num_classes)\n",
        "y_test = keras.utils.to_categorical(test_y, num_classes)"
      ],
      "execution_count": 0,
      "outputs": []
    },
    {
      "cell_type": "code",
      "metadata": {
        "id": "hvfBz2MAS5UL",
        "colab_type": "code",
        "outputId": "8026b28b-0457-4561-d022-976450044693",
        "colab": {
          "base_uri": "https://localhost:8080/",
          "height": 72
        }
      },
      "source": [
        "print('훈련 데이터: {}'.format(len(X_train)))\n",
        "print('테스트 데이터: {}'.format(len(X_test)))\n",
        "print('카테고리: {}'.format(num_classes))"
      ],
      "execution_count": 0,
      "outputs": [
        {
          "output_type": "stream",
          "text": [
            "훈련 데이터: 150000\n",
            "테스트 데이터: 50000\n",
            "카테고리: 2\n"
          ],
          "name": "stdout"
        }
      ]
    },
    {
      "cell_type": "code",
      "metadata": {
        "id": "8Bc2GaSuS5UP",
        "colab_type": "code",
        "outputId": "801bed96-5c9c-4319-9d13-c3ed7385da0b",
        "colab": {
          "base_uri": "https://localhost:8080/",
          "height": 284
        }
      },
      "source": [
        "plt.hist([len(s) for s in X_train], bins=50)\n",
        "plt.xlabel('length of Data')\n",
        "plt.ylabel('number of Data')\n",
        "plt.show()"
      ],
      "execution_count": 0,
      "outputs": [
        {
          "output_type": "display_data",
          "data": {
            "image/png": "[encoded data removed]",
            "text/plain": [
              "<Figure size 432x288 with 1 Axes>"
            ]
          },
          "metadata": {
            "tags": []
          }
        }
      ]
    },
    {
      "cell_type": "code",
      "metadata": {
        "id": "93IRXBwgS5UT",
        "colab_type": "code",
        "colab": {}
      },
      "source": [
        "maxlen = 30\n",
        "x_train = sequence.pad_sequences(X_train, maxlen)\n",
        "x_test = sequence.pad_sequences(X_test, maxlen)"
      ],
      "execution_count": 0,
      "outputs": []
    },
    {
      "cell_type": "code",
      "metadata": {
        "id": "eH06qeM489iA",
        "colab_type": "code",
        "outputId": "4bf0eb79-132b-45af-b4f6-1ce8549b26ae",
        "colab": {
          "base_uri": "https://localhost:8080/",
          "height": 35
        }
      },
      "source": [
        "y_train[0]"
      ],
      "execution_count": 0,
      "outputs": [
        {
          "output_type": "execute_result",
          "data": {
            "text/plain": [
              "array([1., 0.], dtype=float32)"
            ]
          },
          "metadata": {
            "tags": []
          },
          "execution_count": 15
        }
      ]
    },
    {
      "cell_type": "code",
      "metadata": {
        "scrolled": true,
        "id": "IufJ9A4DS5UY",
        "colab_type": "code",
        "outputId": "c304066d-13d3-4880-8877-971208374074",
        "colab": {
          "base_uri": "https://localhost:8080/",
          "height": 783
        }
      },
      "source": [
        "model = Sequential()\n",
        "model.add(Embedding(max_features, 64)) #embedding size보다 1은 커야함\n",
        "model.add(LSTM(64))\n",
        "model.add(Dropout(0.5))\n",
        "model.add(Dense(num_classes, activation='sigmoid'))\n",
        "\n",
        "# try using different optimizers and different optimizer configs\n",
        "model.compile('adam', 'binary_crossentropy', metrics=['accuracy'])\n",
        "\n",
        "print('Train...')\n",
        "model.fit(x_train, y_train,\n",
        "          batch_size=batch_size,\n",
        "          epochs=2)"
      ],
      "execution_count": 0,
      "outputs": [
        {
          "output_type": "stream",
          "text": [
            "WARNING: Logging before flag parsing goes to stderr.\n",
            "W0812 01:47:16.506520 140275144341376 deprecation_wrapper.py:119] From /usr/local/lib/python3.6/dist-packages/keras/backend/tensorflow_backend.py:74: The name tf.get_default_graph is deprecated. Please use tf.compat.v1.get_default_graph instead.\n",
            "\n",
            "W0812 01:47:16.550173 140275144341376 deprecation_wrapper.py:119] From /usr/local/lib/python3.6/dist-packages/keras/backend/tensorflow_backend.py:517: The name tf.placeholder is deprecated. Please use tf.compat.v1.placeholder instead.\n",
            "\n",
            "W0812 01:47:16.560006 140275144341376 deprecation_wrapper.py:119] From /usr/local/lib/python3.6/dist-packages/keras/backend/tensorflow_backend.py:4138: The name tf.random_uniform is deprecated. Please use tf.random.uniform instead.\n",
            "\n",
            "W0812 01:47:16.836024 140275144341376 deprecation_wrapper.py:119] From /usr/local/lib/python3.6/dist-packages/keras/backend/tensorflow_backend.py:133: The name tf.placeholder_with_default is deprecated. Please use tf.compat.v1.placeholder_with_default instead.\n",
            "\n",
            "W0812 01:47:16.846986 140275144341376 deprecation.py:506] From /usr/local/lib/python3.6/dist-packages/keras/backend/tensorflow_backend.py:3445: calling dropout (from tensorflow.python.ops.nn_ops) with keep_prob is deprecated and will be removed in a future version.\n",
            "Instructions for updating:\n",
            "Please use `rate` instead of `keep_prob`. Rate should be set to `rate = 1 - keep_prob`.\n",
            "W0812 01:47:16.877528 140275144341376 deprecation_wrapper.py:119] From /usr/local/lib/python3.6/dist-packages/keras/optimizers.py:790: The name tf.train.Optimizer is deprecated. Please use tf.compat.v1.train.Optimizer instead.\n",
            "\n",
            "W0812 01:47:16.901939 140275144341376 deprecation_wrapper.py:119] From /usr/local/lib/python3.6/dist-packages/keras/backend/tensorflow_backend.py:3376: The name tf.log is deprecated. Please use tf.math.log instead.\n",
            "\n",
            "W0812 01:47:16.908966 140275144341376 deprecation.py:323] From /usr/local/lib/python3.6/dist-packages/tensorflow/python/ops/nn_impl.py:180: add_dispatch_support.<locals>.wrapper (from tensorflow.python.ops.array_ops) is deprecated and will be removed in a future version.\n",
            "Instructions for updating:\n",
            "Use tf.where in 2.0, which has the same broadcast rule as np.where\n"
          ],
          "name": "stderr"
        },
        {
          "output_type": "stream",
          "text": [
            "Train...\n",
            "Epoch 1/10\n",
            "150000/150000 [==============================] - 49s 325us/step - loss: 0.4864 - acc: 0.7661\n",
            "Epoch 2/10\n",
            "150000/150000 [==============================] - 45s 298us/step - loss: 0.3329 - acc: 0.8575\n",
            "Epoch 3/10\n",
            "150000/150000 [==============================] - 46s 308us/step - loss: 0.3091 - acc: 0.8676\n",
            "Epoch 4/10\n",
            "150000/150000 [==============================] - 45s 302us/step - loss: 0.2949 - acc: 0.8726\n",
            "Epoch 5/10\n",
            "150000/150000 [==============================] - 46s 305us/step - loss: 0.2811 - acc: 0.8779\n",
            "Epoch 6/10\n",
            "150000/150000 [==============================] - 46s 304us/step - loss: 0.2679 - acc: 0.8832\n",
            "Epoch 7/10\n",
            "150000/150000 [==============================] - 45s 301us/step - loss: 0.2547 - acc: 0.8889\n",
            "Epoch 8/10\n",
            "150000/150000 [==============================] - 51s 339us/step - loss: 0.2450 - acc: 0.8931\n",
            "Epoch 9/10\n",
            "150000/150000 [==============================] - 45s 301us/step - loss: 0.2319 - acc: 0.8985\n",
            "Epoch 10/10\n",
            "150000/150000 [==============================] - 45s 302us/step - loss: 0.2204 - acc: 0.9040\n"
          ],
          "name": "stdout"
        },
        {
          "output_type": "execute_result",
          "data": {
            "text/plain": [
              "<keras.callbacks.History at 0x7f9418686a58>"
            ]
          },
          "metadata": {
            "tags": []
          },
          "execution_count": 16
        }
      ]
    },
    {
      "cell_type": "code",
      "metadata": {
        "id": "dv17qpumS5Ua",
        "colab_type": "code",
        "outputId": "ec5ccd80-aa43-45d3-966b-7dcdf6833b37",
        "colab": {
          "base_uri": "https://localhost:8080/",
          "height": 290
        }
      },
      "source": [
        "model.summary()"
      ],
      "execution_count": 0,
      "outputs": [
        {
          "output_type": "stream",
          "text": [
            "_________________________________________________________________\n",
            "Layer (type)                 Output Shape              Param #   \n",
            "=================================================================\n",
            "embedding_1 (Embedding)      (None, None, 64)          640000    \n",
            "_________________________________________________________________\n",
            "lstm_1 (LSTM)                (None, 64)                33024     \n",
            "_________________________________________________________________\n",
            "dropout_1 (Dropout)          (None, 64)                0         \n",
            "_________________________________________________________________\n",
            "dense_1 (Dense)              (None, 2)                 130       \n",
            "=================================================================\n",
            "Total params: 673,154\n",
            "Trainable params: 673,154\n",
            "Non-trainable params: 0\n",
            "_________________________________________________________________\n"
          ],
          "name": "stdout"
        }
      ]
    },
    {
      "cell_type": "code",
      "metadata": {
        "id": "9YKkVoqzzfOK",
        "colab_type": "code",
        "colab": {}
      },
      "source": [
        "model.save('lstm.h5') "
      ],
      "execution_count": 0,
      "outputs": []
    },
    {
      "cell_type": "code",
      "metadata": {
        "id": "IWK32sUaS5Ud",
        "colab_type": "code",
        "outputId": "3b65a83e-22f0-4174-d8aa-cc54552d758a",
        "colab": {
          "base_uri": "https://localhost:8080/",
          "height": 35
        }
      },
      "source": [
        "results = model.evaluate(x_test, y_test)"
      ],
      "execution_count": 0,
      "outputs": [
        {
          "output_type": "stream",
          "text": [
            "50000/50000 [==============================] - 8s 167us/step\n"
          ],
          "name": "stdout"
        }
      ]
    },
    {
      "cell_type": "code",
      "metadata": {
        "id": "RRedD4xWS5Uf",
        "colab_type": "code",
        "outputId": "817e132e-b900-4288-f1f1-8922a2d45ce1",
        "colab": {
          "base_uri": "https://localhost:8080/",
          "height": 35
        }
      },
      "source": [
        "results"
      ],
      "execution_count": 0,
      "outputs": [
        {
          "output_type": "execute_result",
          "data": {
            "text/plain": [
              "[0.4237879145002365, 0.83947]"
            ]
          },
          "metadata": {
            "tags": []
          },
          "execution_count": 20
        }
      ]
    },
    {
      "cell_type": "markdown",
      "metadata": {
        "id": "5rDX2FSpS5Ui",
        "colab_type": "text"
      },
      "source": [
        "### 3. LRP & Visualization (base code : https://github.com/ArrasL/LRP_for_LSTM)"
      ]
    },
    {
      "cell_type": "code",
      "metadata": {
        "id": "Y-R6Q2AhS5Ui",
        "colab_type": "code",
        "colab": {}
      },
      "source": [
        "def html_heatmap (words, scores, cmap_name=\"bwr\"):\n",
        "    \"\"\"\n",
        "    Return word-level heatmap in HTML format,\n",
        "    with words being the list of words (as string),\n",
        "    scores the corresponding list of word-level relevance values,\n",
        "    and cmap_name the name of the matplotlib diverging colormap.\n",
        "    \"\"\"\n",
        "    \n",
        "    colormap  = plt.get_cmap(cmap_name)\n",
        "     \n",
        "    #assert len(words)==len(scores)\n",
        "    max_s     = max(scores)\n",
        "    min_s     = min(scores)\n",
        "    \n",
        "    output_text = \"\"\n",
        "    \n",
        "    for idx, w in enumerate(words):\n",
        "        score       = rescale_score_by_abs(scores[idx], max_s, min_s)\n",
        "        output_text = output_text + span_word(w, score, colormap) + \" \"\n",
        "    \n",
        "    return output_text + \"\\n\"\n",
        "\n",
        "def rescale_score_by_abs (score, max_score, min_score):\n",
        "    \"\"\"\n",
        "    Normalize the relevance value (=score), accordingly to the extremal relevance values (max_score and min_score), \n",
        "    for visualization with a diverging colormap.\n",
        "    i.e. rescale positive relevance to the range [0.5, 1.0], and negative relevance to the range [0.0, 0.5],\n",
        "    using the highest absolute relevance for linear interpolation.\n",
        "    \"\"\"\n",
        "    \n",
        "    # CASE 1: positive AND negative scores occur --------------------\n",
        "    if max_score>0 and min_score<0:\n",
        "    \n",
        "        if max_score >= abs(min_score):   # deepest color is positive\n",
        "            if score>=0:\n",
        "                return 0.5 + 0.5*(score/max_score)\n",
        "            else:\n",
        "                return 0.5 - 0.5*(abs(score)/max_score)\n",
        "\n",
        "        else:                             # deepest color is negative\n",
        "            if score>=0:\n",
        "                return 0.5 + 0.5*(score/abs(min_score))\n",
        "            else:\n",
        "                return 0.5 - 0.5*(score/min_score)   \n",
        "    \n",
        "    # CASE 2: ONLY positive scores occur -----------------------------       \n",
        "    elif max_score>0 and min_score>=0: \n",
        "        if max_score == min_score:\n",
        "            return 1.0\n",
        "        else:\n",
        "            return 0.5 + 0.5*(score/max_score)\n",
        "    \n",
        "    # CASE 3: ONLY negative scores occur -----------------------------\n",
        "    elif max_score<=0 and min_score<0: \n",
        "        if max_score == min_score:\n",
        "            return 0.0\n",
        "        else:\n",
        "            return 0.5 - 0.5*(score/min_score)\n",
        "          \n",
        "\n",
        "def getRGB (c_tuple):\n",
        "    return \"#%02x%02x%02x\"%(int(c_tuple[0]*255), int(c_tuple[1]*255), int(c_tuple[2]*255))\n",
        "\n",
        "     \n",
        "def span_word (word, score, colormap):\n",
        "    return \"<span style=\\\"background-color:\"+getRGB(colormap(score))+\"\\\">\"+word+\"</span>\""
      ],
      "execution_count": 0,
      "outputs": []
    },
    {
      "cell_type": "code",
      "metadata": {
        "id": "r4no2JyfS5Uw",
        "colab_type": "code",
        "colab": {}
      },
      "source": [
        "def get_layer_output(layer_name, data):\n",
        "    # https://keras.io/getting-started/faq/#how-can-i-obtain-the-output-of-an-intermediate-layer\n",
        "    intermediate_layer_model = keras.Model(inputs=model.input,\n",
        "                                     outputs=model.get_layer(layer_name).output)\n",
        "    return intermediate_layer_model.predict(data)  "
      ],
      "execution_count": 0,
      "outputs": []
    },
    {
      "cell_type": "code",
      "metadata": {
        "id": "toKXGVMXS5Ul",
        "colab_type": "code",
        "colab": {}
      },
      "source": [
        "names = [weight.name for layer in model.layers for weight in layer.weights]\n",
        "weights = model.get_weights()\n",
        "\n",
        "# suppress scientific notation\n",
        "np.set_printoptions(suppress=True)\n",
        "for name, weight in zip(names, weights):\n",
        "    if name == 'lstm_1/kernel:0':\n",
        "        kernel_0 = weight\n",
        "    if name == 'lstm_1/recurrent_kernel:0':\n",
        "        recurrent_kernel_0 = weight\n",
        "    if name == 'lstm_1/bias:0':\n",
        "        bias_0 = weight\n",
        "    elif name == 'dense_1/kernel:0':\n",
        "        output = weight"
      ],
      "execution_count": 0,
      "outputs": []
    },
    {
      "cell_type": "code",
      "metadata": {
        "id": "BKCNlYJuS5U2",
        "colab_type": "code",
        "outputId": "97a4a8a7-0ffe-48f8-dd3d-7c8a1d624afe",
        "colab": {
          "base_uri": "https://localhost:8080/",
          "height": 90
        }
      },
      "source": [
        "print(\"kernel_0\", kernel_0.shape)\n",
        "print(\"recurrent_kernel_0\", recurrent_kernel_0.shape)\n",
        "print(\"bias_0\", bias_0.shape)\n",
        "print(\"output\", output.shape)\n",
        "\n",
        "# self.Wxh_Left (240, 60)\n",
        "# self.Whh_Left (240, 60)\n",
        "# self.bxh_Left (240,)\n",
        "# self.Why_Left (5, 60)"
      ],
      "execution_count": 0,
      "outputs": [
        {
          "output_type": "stream",
          "text": [
            "kernel_0 (64, 256)\n",
            "recurrent_kernel_0 (64, 256)\n",
            "bias_0 (256,)\n",
            "output (64, 2)\n"
          ],
          "name": "stdout"
        }
      ]
    },
    {
      "cell_type": "code",
      "metadata": {
        "id": "638-oeUdqgkq",
        "colab_type": "code",
        "outputId": "67a66bd5-3398-4afe-962b-96da19236c3d",
        "colab": {
          "base_uri": "https://localhost:8080/",
          "height": 90
        }
      },
      "source": [
        "Wxh = kernel_0  # shape 4d*e\n",
        "Whh = recurrent_kernel_0  # shape 4d\n",
        "bxh = bias_0  # shape 4d \n",
        "Why = output\n",
        "\n",
        "print(\"Wxh\", Wxh.shape)\n",
        "print(\"Whh\", Whh.shape)\n",
        "print(\"bxh\", bxh.shape)\n",
        "print(\"Why\", Why.shape)"
      ],
      "execution_count": 0,
      "outputs": [
        {
          "output_type": "stream",
          "text": [
            "Wxh (64, 256)\n",
            "Whh (64, 256)\n",
            "bxh (256,)\n",
            "Why (64, 2)\n"
          ],
          "name": "stdout"
        }
      ]
    },
    {
      "cell_type": "code",
      "metadata": {
        "id": "u1KbcZ-dS5U4",
        "colab_type": "code",
        "colab": {}
      },
      "source": [
        "def lrp_linear(hin, w, b, hout, Rout, bias_nb_units, eps, bias_factor=0.0, debug=False):\n",
        "    \"\"\"\n",
        "    LRP for a linear layer with input dim D and output dim M.\n",
        "    Args:\n",
        "    - hin:            forward pass input, of shape (D,)\n",
        "    - w:              connection weights, of shape (D, M)\n",
        "    - b:              biases, of shape (M,)\n",
        "    - hout:           forward pass output, of shape (M,) (unequal to np.dot(w.T,hin)+b if more than one incoming layer!)\n",
        "    - Rout:           relevance at layer output, of shape (M,)\n",
        "    - bias_nb_units:  total number of connected lower-layer units (onto which the bias/stabilizer contribution is redistributed for sanity check)\n",
        "    - eps:            stabilizer (small positive number)\n",
        "    - bias_factor:    set to 1.0 to check global relevance conservation, otherwise use 0.0 to ignore bias/stabilizer redistribution (recommended)\n",
        "    Returns:\n",
        "    - Rin:            relevance at layer input, of shape (D,)\n",
        "    \"\"\"\n",
        "    sign_out = np.where(hout[na,:]>=0, 1., -1.) # shape (1, M)\n",
        "    numer    = (hin[:,na] * w) + ( bias_factor * (b[na,:]*1. + eps*sign_out*1.) / bias_nb_units ) # shape (D, M)\n",
        "    denom    = hout[na,:] + (eps*sign_out*1.)   # shape (1, M)\n",
        "    message  = (numer/denom) * Rout[na,:]       # shape (D, M)\n",
        "    \n",
        "    Rin      = message.sum(axis=1)              # shape (D,)\n",
        "    \n",
        "    if debug:\n",
        "        print(\"local diff: \", Rout.sum() - Rin.sum())\n",
        "\n",
        "    return Rin"
      ],
      "execution_count": 0,
      "outputs": []
    },
    {
      "cell_type": "code",
      "metadata": {
        "id": "yDAH9-Q4S5U7",
        "colab_type": "code",
        "colab": {}
      },
      "source": [
        "def LRP(target_data, target_class) :\n",
        "    \n",
        "    #원본 소스에서 E embedding은 전체에 대한 단어 사전이고, x는 embedding된 인풋이다.  \n",
        "    # w_indices [109, 11995, 25, 18263, 25, 973, 3138, 6389, 372]\n",
        "\n",
        "    x = get_layer_output('embedding_1', target_data).squeeze(axis=1)\n",
        "    e = x.shape[1]\n",
        "\n",
        "   ################# forword\n",
        "    T = target_data.shape[0]\n",
        "    d = int(256/4)  # hidden units\n",
        "    C = Why.shape[1] # number of classes\n",
        "    \n",
        "    idx    = np.hstack((np.arange(0,d), np.arange(2*d,4*d))).astype(int) # indices of gates i,f,o together\n",
        "    idx_i, idx_g, idx_f, idx_o = np.arange(0,d), np.arange(d,2*d), np.arange(2*d,3*d), np.arange(3*d,4*d) # indices of gates i,g,f,o separately\n",
        "\n",
        "    h  = np.zeros((T,d))\n",
        "    c  = np.zeros((T,d))\n",
        "\n",
        "    gates_xh  = np.zeros((T, 4*d))  \n",
        "    gates_hh  = np.zeros((T, 4*d)) \n",
        "    gates_pre = np.zeros((T, 4*d))  \n",
        "    gates     = np.zeros((T, 4*d))  \n",
        "\n",
        "    for t in range(T):\n",
        "        gates_xh[t]     = np.dot(Wxh.T, x[t])\n",
        "        gates_hh[t]     = np.dot(Whh.T, h[t-1])\n",
        "        gates_pre[t]    = gates_xh[t] + gates_hh[t] + bxh\n",
        "        gates[t, idx]    = 1.0/(1.0 + np.exp(- gates_pre[t,idx]))\n",
        "        gates[t,idx_g]  = np.tanh(gates_pre[t,idx_g]) \n",
        "        c[t]            = gates[t,idx_f]*c[t-1] + gates[t,idx_i]*gates[t,idx_g]\n",
        "        h[t]            = gates[t,idx_o]*np.tanh(c[t])\n",
        "\n",
        "    s = np.dot(Why.T, h[t])    \n",
        "\n",
        "    ################# backwork\n",
        "    dx     = np.zeros(x.shape)\n",
        "\n",
        "    dh          = np.zeros((T, d))\n",
        "    dc          = np.zeros((T, d))\n",
        "    dgates_pre  = np.zeros((T, 4*d))  # gates pre-activation\n",
        "    dgates      = np.zeros((T, 4*d))  # gates activation\n",
        "\n",
        "    ds               = np.zeros((C))\n",
        "    ds[target_class] = 1.0\n",
        "    dy               = ds.copy()\n",
        "\n",
        "    #맨처음을 0으로 시작하지 않게 위한조치\n",
        "    dh[T-1]     = np.dot(Why, dy)\n",
        "\n",
        "    for t in reversed(range(T)): \n",
        "        dgates[t,idx_o]    = dh[t] * np.tanh(c[t])  # do[t]\n",
        "        dc[t]             += dh[t] * gates[t,idx_o] * (1.-(np.tanh(c[t]))**2) # dc[t]\n",
        "        dgates[t,idx_f]    = dc[t] * c[t-1]         # df[t]\n",
        "        dc[t-1]            = dc[t] * gates[t,idx_f] # dc[t-1]\n",
        "        dgates[t,idx_i]    = dc[t] * gates[t,idx_g] # di[t]\n",
        "        dgates[t,idx_g]    = dc[t] * gates[t,idx_i] # dg[t]\n",
        "        dgates_pre[t,idx]  = dgates[t,idx] * gates[t,idx] * (1.0 - gates[t,idx]) # d ifo pre[t]\n",
        "        dgates_pre[t,idx_g]= dgates[t,idx_g] *  (1.-(gates[t,idx_g])**2) # d g pre[t]\n",
        "        dh[t-1]            = np.dot(Whh, dgates_pre[t])\n",
        "        dx[t]              = np.dot(Wxh, dgates_pre[t])\n",
        "\n",
        "    ################# LRP\n",
        "    eps=0.001 \n",
        "    bias_factor=0.0\n",
        "    Rx  = np.zeros(x.shape)\n",
        "    Rh  = np.zeros((T+1, d))\n",
        "    Rc  = np.zeros((T+1, d))\n",
        "    Rg  = np.zeros((T,   d)) # gate g only\n",
        "\n",
        "    Rout_mask            = np.zeros((C))\n",
        "    Rout_mask[target_class] = 1.0  \n",
        "\n",
        "    # format reminder: lrp_linear(hin, w, b, hout, Rout, bias_nb_units, eps, bias_factor)\n",
        "    Rh[T-1]  = lrp_linear(h[T-1], Why, np.zeros((C)), s, s*Rout_mask, 2*d, eps, bias_factor, debug=False)  \n",
        "\n",
        "    for t in reversed(range(T)):\n",
        "        print(\"gates[t,idx_f]*c[t-1],\",gates[t,idx_f]*c[t-1].shape)\n",
        "        print(\"gates[t,idx_i]*gates[t,idx_g]\",gates[t,idx_i]*gates[t,idx_g].shape)\n",
        "        print(\"h[T-1]\",h[T-1].shape)\n",
        "        print(\"x[t]\",x[t].shape)\n",
        "        Rc[t]   += Rh[t]\n",
        "        Rc[t-1]  = lrp_linear(gates[t,idx_f]*c[t-1], np.identity(d), np.zeros((d)), c[t], Rc[t], 2*d, eps, bias_factor, debug=False)\n",
        "        Rg[t]    = lrp_linear(gates[t,idx_i]*gates[t,idx_g], np.identity(d), np.zeros((d)), c[t], Rc[t], 2*d, eps, bias_factor, debug=False)\n",
        "        Rx[t]    = lrp_linear(x[t], Wxh[idx_g], bxh[idx_g], gates_pre[t,idx_g], Rg[t], d+e, eps, bias_factor, debug=False)\n",
        "        Rh[t-1]  = lrp_linear(h[t-1], Whh[idx_g], bxh[idx_g], gates_pre[t,idx_g], Rg[t], d+e, eps, bias_factor, debug=False)    \n",
        "\n",
        "    return s, dx, Rx, Rh[-1].sum()"
      ],
      "execution_count": 0,
      "outputs": []
    },
    {
      "cell_type": "code",
      "metadata": {
        "id": "x9SR9LoOS5VB",
        "colab_type": "code",
        "colab": {}
      },
      "source": [
        "def index_to_word(list):\n",
        "    _ = []\n",
        "    for x in list :\n",
        "        _.append(selected_words_10000[x].split('/')[0])\n",
        "    return _"
      ],
      "execution_count": 0,
      "outputs": []
    },
    {
      "cell_type": "code",
      "metadata": {
        "id": "IdOy0NVuS5VZ",
        "colab_type": "code",
        "colab": {}
      },
      "source": [
        "def int_to_str(target_class):\n",
        "    if target_class == 0 :\n",
        "        return \"부정\"\n",
        "    else :\n",
        "        return \"긍정\""
      ],
      "execution_count": 0,
      "outputs": []
    },
    {
      "cell_type": "code",
      "metadata": {
        "id": "470zKQDJS5Vb",
        "colab_type": "code",
        "colab": {}
      },
      "source": [
        "predictions = model.predict(x_test)"
      ],
      "execution_count": 0,
      "outputs": []
    },
    {
      "cell_type": "code",
      "metadata": {
        "id": "d2HWZRNXS5Vf",
        "colab_type": "code",
        "colab": {}
      },
      "source": [
        "positive_list = []\n",
        "negative_list = []\n",
        "\n",
        "for i in range(len(y_test)):\n",
        "    if np.argmax(predictions[i]) == 1:\n",
        "        positive_list.append(i)\n",
        "    else :\n",
        "        negative_list.append(i)"
      ],
      "execution_count": 0,
      "outputs": []
    },
    {
      "cell_type": "code",
      "metadata": {
        "id": "8FUPZ-t-Eyub",
        "colab_type": "code",
        "colab": {}
      },
      "source": [
        "#selected_words_10000.append(selected_words_10000[-1])"
      ],
      "execution_count": 0,
      "outputs": []
    },
    {
      "cell_type": "code",
      "metadata": {
        "scrolled": false,
        "id": "vjQD2HlRS5Vh",
        "colab_type": "code",
        "outputId": "c249d083-a036-47f4-cd35-33378d543a40",
        "colab": {
          "base_uri": "https://localhost:8080/",
          "height": 847
        }
      },
      "source": [
        "print(\"각 단어가 긍정이라고 예측하는데 영향을 미치는 정도\" )\n",
        "for index, i in enumerate(positive_list):\n",
        "    \n",
        "    target_full_data = x_test[i]\n",
        "    squeeze_index = np.transpose(np.nonzero(target_full_data)).squeeze(axis=1)\n",
        "\n",
        "    target_data = np.array(target_full_data[squeeze_index])\n",
        "    target_class = np.argmax(y_test[i])\n",
        "\n",
        "    scores, Gx, Rx, R_rest = LRP(target_data, target_class)\n",
        "\n",
        "    R_words          = np.sum(Rx, axis=1)                       # compute word-level LRP relevances\n",
        "    \n",
        "    \n",
        "    R_words_SA       = (np.linalg.norm(Gx,ord=2, axis=0))**2   # compute word-level Sensitivity Analysis relevances\n",
        "    R_words_GI       = np.dot(target_data, Gx) \n",
        "\n",
        "    words = index_to_word(target_data)\n",
        "\n",
        "    if len(words) > 0 :\n",
        "        print(\" 예측 레이블:\", int_to_str(np.argmax(predictions[i])), \"| 실제 레이블 : \", int_to_str(target_class))\n",
        "\n",
        "        print(\"        LRP heatmap:\")\n",
        "        display(HTML(html_heatmap(words, R_words)))\n",
        "\n",
        "        print(\"        SA heatmap:\")\n",
        "        display(HTML(html_heatmap(words, R_words_SA)))\n",
        "\n",
        "        print(\"        GI heatmap:\")\n",
        "        display(HTML(html_heatmap(words, R_words_GI)))\n",
        "\n",
        "        print(\"-----------------------------------------------------------\")\n",
        "\n",
        "    if index == 20: # 50개만 출력\n",
        "      break"
      ],
      "execution_count": 0,
      "outputs": [
        {
          "output_type": "stream",
          "text": [
            "각 단어가 긍정이라고 예측하는데 영향을 미치는 정도\n",
            "gates[t,idx_f]*c[t-1], [32.43477416 34.11802459 31.95602827 32.59127186 31.56421784 34.08392178\n",
            " 29.1779946  25.92206883 32.71766237 33.05716962 27.64401921 35.00184965\n",
            " 32.12492425 31.73841638 26.23886833 30.46675771 29.86564097 31.10416144\n",
            " 31.77091261 32.70106766 31.12399924 34.88045275 27.05372544 38.96504109\n",
            " 26.79443585 33.31779794 30.36203396 34.30087779 33.02871724 28.69263961\n",
            " 30.9801979  35.98913839 35.22221895 31.18008402 34.08530954 31.55567501\n",
            " 27.86726366 32.01609506 31.35758653 28.92248125 36.85230347 32.19655969\n",
            " 32.9190286  27.73241259 28.69127411 30.31522855 26.17192305 29.86087693\n",
            " 27.08406542 34.85774126 31.34296374 31.29120937 35.79117904 31.36155123\n",
            " 31.80985493 32.71405412 30.18843317 30.43606527 34.21991497 36.42778389\n",
            " 30.18859722 35.55377792 31.3430472  30.89230854]\n",
            "gates[t,idx_i]*gates[t,idx_g] [37.32598458 38.3538905  35.40537847 33.73940399 38.33659347 36.8959718\n",
            " 37.81609017 30.28197748 35.89136337 32.87782001 36.40663276 41.3487084\n",
            " 32.6301326  40.9246202  38.35470258 29.76100151 33.04182808 39.12926825\n",
            " 32.74135604 36.47767462 32.97706381 32.36278717 34.49225853 33.87803032\n",
            " 36.84343017 33.62242244 36.95242055 33.49376148 37.56191519 40.11484065\n",
            " 32.79121311 31.348766   32.5638967  41.015822   32.65225749 34.10508601\n",
            " 34.81243237 38.02332426 40.54763791 33.59386668 33.58797988 33.67260719\n",
            " 31.3338737  35.80482022 29.24905883 24.99473758 39.90377507 40.38135279\n",
            " 37.713262   32.24195584 30.54367267 32.5856239  37.28565774 36.19844313\n",
            " 34.64838355 35.90096613 37.66846834 34.86209595 33.22196231 29.67019774\n",
            " 36.03243398 35.80126339 34.5526409  37.03652944]\n",
            "h[T-1] (64,)\n",
            "x[t] (64,)\n"
          ],
          "name": "stdout"
        },
        {
          "output_type": "error",
          "ename": "IndexError",
          "evalue": "ignored",
          "traceback": [
            "\u001b[0;31m---------------------------------------------------------------------------\u001b[0m",
            "\u001b[0;31mIndexError\u001b[0m                                Traceback (most recent call last)",
            "\u001b[0;32m<ipython-input-33-823523ef5d05>\u001b[0m in \u001b[0;36m<module>\u001b[0;34m()\u001b[0m\n\u001b[1;32m      8\u001b[0m     \u001b[0mtarget_class\u001b[0m \u001b[0;34m=\u001b[0m \u001b[0mnp\u001b[0m\u001b[0;34m.\u001b[0m\u001b[0margmax\u001b[0m\u001b[0;34m(\u001b[0m\u001b[0my_test\u001b[0m\u001b[0;34m[\u001b[0m\u001b[0mi\u001b[0m\u001b[0;34m]\u001b[0m\u001b[0;34m)\u001b[0m\u001b[0;34m\u001b[0m\u001b[0;34m\u001b[0m\u001b[0m\n\u001b[1;32m      9\u001b[0m \u001b[0;34m\u001b[0m\u001b[0m\n\u001b[0;32m---> 10\u001b[0;31m     \u001b[0mscores\u001b[0m\u001b[0;34m,\u001b[0m \u001b[0mGx\u001b[0m\u001b[0;34m,\u001b[0m \u001b[0mRx\u001b[0m\u001b[0;34m,\u001b[0m \u001b[0mR_rest\u001b[0m \u001b[0;34m=\u001b[0m \u001b[0mLRP\u001b[0m\u001b[0;34m(\u001b[0m\u001b[0mtarget_data\u001b[0m\u001b[0;34m,\u001b[0m \u001b[0mtarget_class\u001b[0m\u001b[0;34m)\u001b[0m\u001b[0;34m\u001b[0m\u001b[0;34m\u001b[0m\u001b[0m\n\u001b[0m\u001b[1;32m     11\u001b[0m \u001b[0;34m\u001b[0m\u001b[0m\n\u001b[1;32m     12\u001b[0m     \u001b[0mR_words\u001b[0m             \u001b[0;34m=\u001b[0m \u001b[0mnp\u001b[0m\u001b[0;34m.\u001b[0m\u001b[0msum\u001b[0m\u001b[0;34m(\u001b[0m\u001b[0mRx\u001b[0m\u001b[0;34m,\u001b[0m \u001b[0maxis\u001b[0m\u001b[0;34m=\u001b[0m\u001b[0;36m1\u001b[0m\u001b[0;34m)\u001b[0m                       \u001b[0;31m# compute word-level LRP relevances\u001b[0m\u001b[0;34m\u001b[0m\u001b[0;34m\u001b[0m\u001b[0m\n",
            "\u001b[0;32m<ipython-input-27-7e084979af19>\u001b[0m in \u001b[0;36mLRP\u001b[0;34m(target_data, target_class)\u001b[0m\n\u001b[1;32m     83\u001b[0m         \u001b[0mRc\u001b[0m\u001b[0;34m[\u001b[0m\u001b[0mt\u001b[0m\u001b[0;34m-\u001b[0m\u001b[0;36m1\u001b[0m\u001b[0;34m]\u001b[0m  \u001b[0;34m=\u001b[0m \u001b[0mlrp_linear\u001b[0m\u001b[0;34m(\u001b[0m\u001b[0mgates\u001b[0m\u001b[0;34m[\u001b[0m\u001b[0mt\u001b[0m\u001b[0;34m,\u001b[0m\u001b[0midx_f\u001b[0m\u001b[0;34m]\u001b[0m\u001b[0;34m*\u001b[0m\u001b[0mc\u001b[0m\u001b[0;34m[\u001b[0m\u001b[0mt\u001b[0m\u001b[0;34m-\u001b[0m\u001b[0;36m1\u001b[0m\u001b[0;34m]\u001b[0m\u001b[0;34m,\u001b[0m \u001b[0mnp\u001b[0m\u001b[0;34m.\u001b[0m\u001b[0midentity\u001b[0m\u001b[0;34m(\u001b[0m\u001b[0md\u001b[0m\u001b[0;34m)\u001b[0m\u001b[0;34m,\u001b[0m \u001b[0mnp\u001b[0m\u001b[0;34m.\u001b[0m\u001b[0mzeros\u001b[0m\u001b[0;34m(\u001b[0m\u001b[0;34m(\u001b[0m\u001b[0md\u001b[0m\u001b[0;34m)\u001b[0m\u001b[0;34m)\u001b[0m\u001b[0;34m,\u001b[0m \u001b[0mc\u001b[0m\u001b[0;34m[\u001b[0m\u001b[0mt\u001b[0m\u001b[0;34m]\u001b[0m\u001b[0;34m,\u001b[0m \u001b[0mRc\u001b[0m\u001b[0;34m[\u001b[0m\u001b[0mt\u001b[0m\u001b[0;34m]\u001b[0m\u001b[0;34m,\u001b[0m \u001b[0;36m2\u001b[0m\u001b[0;34m*\u001b[0m\u001b[0md\u001b[0m\u001b[0;34m,\u001b[0m \u001b[0meps\u001b[0m\u001b[0;34m,\u001b[0m \u001b[0mbias_factor\u001b[0m\u001b[0;34m,\u001b[0m \u001b[0mdebug\u001b[0m\u001b[0;34m=\u001b[0m\u001b[0;32mFalse\u001b[0m\u001b[0;34m)\u001b[0m\u001b[0;34m\u001b[0m\u001b[0;34m\u001b[0m\u001b[0m\n\u001b[1;32m     84\u001b[0m         \u001b[0mRg\u001b[0m\u001b[0;34m[\u001b[0m\u001b[0mt\u001b[0m\u001b[0;34m]\u001b[0m    \u001b[0;34m=\u001b[0m \u001b[0mlrp_linear\u001b[0m\u001b[0;34m(\u001b[0m\u001b[0mgates\u001b[0m\u001b[0;34m[\u001b[0m\u001b[0mt\u001b[0m\u001b[0;34m,\u001b[0m\u001b[0midx_i\u001b[0m\u001b[0;34m]\u001b[0m\u001b[0;34m*\u001b[0m\u001b[0mgates\u001b[0m\u001b[0;34m[\u001b[0m\u001b[0mt\u001b[0m\u001b[0;34m,\u001b[0m\u001b[0midx_g\u001b[0m\u001b[0;34m]\u001b[0m\u001b[0;34m,\u001b[0m \u001b[0mnp\u001b[0m\u001b[0;34m.\u001b[0m\u001b[0midentity\u001b[0m\u001b[0;34m(\u001b[0m\u001b[0md\u001b[0m\u001b[0;34m)\u001b[0m\u001b[0;34m,\u001b[0m \u001b[0mnp\u001b[0m\u001b[0;34m.\u001b[0m\u001b[0mzeros\u001b[0m\u001b[0;34m(\u001b[0m\u001b[0;34m(\u001b[0m\u001b[0md\u001b[0m\u001b[0;34m)\u001b[0m\u001b[0;34m)\u001b[0m\u001b[0;34m,\u001b[0m \u001b[0mc\u001b[0m\u001b[0;34m[\u001b[0m\u001b[0mt\u001b[0m\u001b[0;34m]\u001b[0m\u001b[0;34m,\u001b[0m \u001b[0mRc\u001b[0m\u001b[0;34m[\u001b[0m\u001b[0mt\u001b[0m\u001b[0;34m]\u001b[0m\u001b[0;34m,\u001b[0m \u001b[0;36m2\u001b[0m\u001b[0;34m*\u001b[0m\u001b[0md\u001b[0m\u001b[0;34m,\u001b[0m \u001b[0meps\u001b[0m\u001b[0;34m,\u001b[0m \u001b[0mbias_factor\u001b[0m\u001b[0;34m,\u001b[0m \u001b[0mdebug\u001b[0m\u001b[0;34m=\u001b[0m\u001b[0;32mFalse\u001b[0m\u001b[0;34m)\u001b[0m\u001b[0;34m\u001b[0m\u001b[0;34m\u001b[0m\u001b[0m\n\u001b[0;32m---> 85\u001b[0;31m         \u001b[0mRx\u001b[0m\u001b[0;34m[\u001b[0m\u001b[0mt\u001b[0m\u001b[0;34m]\u001b[0m    \u001b[0;34m=\u001b[0m \u001b[0mlrp_linear\u001b[0m\u001b[0;34m(\u001b[0m\u001b[0mx\u001b[0m\u001b[0;34m[\u001b[0m\u001b[0mt\u001b[0m\u001b[0;34m]\u001b[0m\u001b[0;34m,\u001b[0m \u001b[0mWxh\u001b[0m\u001b[0;34m[\u001b[0m\u001b[0midx_g\u001b[0m\u001b[0;34m]\u001b[0m\u001b[0;34m,\u001b[0m \u001b[0mbxh\u001b[0m\u001b[0;34m[\u001b[0m\u001b[0midx_g\u001b[0m\u001b[0;34m]\u001b[0m\u001b[0;34m,\u001b[0m \u001b[0mgates_pre\u001b[0m\u001b[0;34m[\u001b[0m\u001b[0mt\u001b[0m\u001b[0;34m,\u001b[0m\u001b[0midx_g\u001b[0m\u001b[0;34m]\u001b[0m\u001b[0;34m,\u001b[0m \u001b[0mRg\u001b[0m\u001b[0;34m[\u001b[0m\u001b[0mt\u001b[0m\u001b[0;34m]\u001b[0m\u001b[0;34m,\u001b[0m \u001b[0md\u001b[0m\u001b[0;34m+\u001b[0m\u001b[0me\u001b[0m\u001b[0;34m,\u001b[0m \u001b[0meps\u001b[0m\u001b[0;34m,\u001b[0m \u001b[0mbias_factor\u001b[0m\u001b[0;34m,\u001b[0m \u001b[0mdebug\u001b[0m\u001b[0;34m=\u001b[0m\u001b[0;32mFalse\u001b[0m\u001b[0;34m)\u001b[0m\u001b[0;34m\u001b[0m\u001b[0;34m\u001b[0m\u001b[0m\n\u001b[0m\u001b[1;32m     86\u001b[0m         \u001b[0mRh\u001b[0m\u001b[0;34m[\u001b[0m\u001b[0mt\u001b[0m\u001b[0;34m-\u001b[0m\u001b[0;36m1\u001b[0m\u001b[0;34m]\u001b[0m  \u001b[0;34m=\u001b[0m \u001b[0mlrp_linear\u001b[0m\u001b[0;34m(\u001b[0m\u001b[0mh\u001b[0m\u001b[0;34m[\u001b[0m\u001b[0mt\u001b[0m\u001b[0;34m-\u001b[0m\u001b[0;36m1\u001b[0m\u001b[0;34m]\u001b[0m\u001b[0;34m,\u001b[0m \u001b[0mWhh\u001b[0m\u001b[0;34m[\u001b[0m\u001b[0midx_g\u001b[0m\u001b[0;34m]\u001b[0m\u001b[0;34m,\u001b[0m \u001b[0mbxh\u001b[0m\u001b[0;34m[\u001b[0m\u001b[0midx_g\u001b[0m\u001b[0;34m]\u001b[0m\u001b[0;34m,\u001b[0m \u001b[0mgates_pre\u001b[0m\u001b[0;34m[\u001b[0m\u001b[0mt\u001b[0m\u001b[0;34m,\u001b[0m\u001b[0midx_g\u001b[0m\u001b[0;34m]\u001b[0m\u001b[0;34m,\u001b[0m \u001b[0mRg\u001b[0m\u001b[0;34m[\u001b[0m\u001b[0mt\u001b[0m\u001b[0;34m]\u001b[0m\u001b[0;34m,\u001b[0m \u001b[0md\u001b[0m\u001b[0;34m+\u001b[0m\u001b[0me\u001b[0m\u001b[0;34m,\u001b[0m \u001b[0meps\u001b[0m\u001b[0;34m,\u001b[0m \u001b[0mbias_factor\u001b[0m\u001b[0;34m,\u001b[0m \u001b[0mdebug\u001b[0m\u001b[0;34m=\u001b[0m\u001b[0;32mFalse\u001b[0m\u001b[0;34m)\u001b[0m\u001b[0;34m\u001b[0m\u001b[0;34m\u001b[0m\u001b[0m\n\u001b[1;32m     87\u001b[0m \u001b[0;34m\u001b[0m\u001b[0m\n",
            "\u001b[0;31mIndexError\u001b[0m: index 64 is out of bounds for axis 0 with size 64"
          ]
        }
      ]
    },
    {
      "cell_type": "code",
      "metadata": {
        "scrolled": false,
        "id": "M_AO1yd0S5Vj",
        "colab_type": "code",
        "colab": {}
      },
      "source": [
        "print(\"각 단어가 부정정이라고 예측하는데 영향을 미치는 정도\" )\n",
        "for index, i in enumerate(negative_list):\n",
        "    \n",
        "    target_full_data = x_test[i]\n",
        "    squeeze_index = np.transpose(np.nonzero(target_full_data)).squeeze(axis=1)\n",
        "    print(squeeze_index)\n",
        "\n",
        "    target_data = np.array(target_full_data[squeeze_index])\n",
        "    print(\"target_data\",target_data.shape)\n",
        "    target_class = np.argmax(y_test[i])\n",
        "\n",
        "    scores, Gx, Rx, R_rest = LRP(target_data, target_class)\n",
        "\n",
        "    R_words             = np.sum(Rx, axis=1)                    # compute word-level LRP relevances\n",
        "    \n",
        "    R_words_SA       = (np.linalg.norm(Gx, ord=2, axis=0))**2   # compute word-level Sensitivity Analysis relevances\n",
        "    \n",
        "    R_words_GI       = np.dot(target_data, Gx) \n",
        "\n",
        "    words = index_to_word(target_data)\n",
        "\n",
        "    if len(words) > 0 :\n",
        "        print(\" 예측 레이블:\", int_to_str(np.argmax(predictions[i])), \"| 실제 레이블 : \", int_to_str(target_class))\n",
        "\n",
        "        print(\"        LRP heatmap:\")\n",
        "        display(HTML(html_heatmap(words, R_words)))\n",
        "\n",
        "        print(\"        SA heatmap:\")\n",
        "        display(HTML(html_heatmap(words, R_words_SA)))\n",
        "\n",
        "        print(\"        GI heatmap:\")\n",
        "        display(HTML(html_heatmap(words, R_words_GI)))\n",
        "\n",
        "        print(\"-----------------------------------------------------------\")\n",
        "\n",
        "    if index == 20: # 50개만 출력\n",
        "      break"
      ],
      "execution_count": 0,
      "outputs": []
    }
  ]
}